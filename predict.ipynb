{
 "cells": [
  {
   "cell_type": "markdown",
   "metadata": {},
   "source": [
    "# Prediction"
   ]
  },
  {
   "cell_type": "markdown",
   "metadata": {},
   "source": [
    "In this notebook we perform the final prediction.\n",
    "We use for training 3 the best, mutually independent features (polymorphisms).\n",
    "Dataset is divided into traiining and validation part in 2:1 ratio.\n",
    "\t\n"
   ]
  },
  {
   "cell_type": "code",
   "execution_count": 2,
   "metadata": {},
   "outputs": [],
   "source": [
    "# Read the data\n",
    "import pandas as pd\n",
    "ped = pd.read_csv(\"data/final/ped_filtered.csv\")"
   ]
  },
  {
   "cell_type": "code",
   "execution_count": 3,
   "metadata": {},
   "outputs": [
    {
     "data": {
      "text/html": [
       "<div>\n",
       "<style scoped>\n",
       "    .dataframe tbody tr th:only-of-type {\n",
       "        vertical-align: middle;\n",
       "    }\n",
       "\n",
       "    .dataframe tbody tr th {\n",
       "        vertical-align: top;\n",
       "    }\n",
       "\n",
       "    .dataframe thead th {\n",
       "        text-align: right;\n",
       "    }\n",
       "</style>\n",
       "<table border=\"1\" class=\"dataframe\">\n",
       "  <thead>\n",
       "    <tr style=\"text-align: right;\">\n",
       "      <th></th>\n",
       "      <th>Unnamed: 0</th>\n",
       "      <th>rs6599770</th>\n",
       "      <th>rs12440100</th>\n",
       "      <th>rs12906138</th>\n",
       "      <th>rs7179358</th>\n",
       "      <th>kgp6444009</th>\n",
       "      <th>rs4932078</th>\n",
       "      <th>exm1140790</th>\n",
       "      <th>exm1140862</th>\n",
       "      <th>exm1140954</th>\n",
       "      <th>...</th>\n",
       "      <th>exm1194803</th>\n",
       "      <th>rs7182651</th>\n",
       "      <th>rs7180058</th>\n",
       "      <th>rs2203349</th>\n",
       "      <th>exm1194810</th>\n",
       "      <th>exm2274791</th>\n",
       "      <th>rs13329121</th>\n",
       "      <th>rs11247329</th>\n",
       "      <th>sex</th>\n",
       "      <th>color</th>\n",
       "    </tr>\n",
       "  </thead>\n",
       "  <tbody>\n",
       "    <tr>\n",
       "      <th>0</th>\n",
       "      <td>0</td>\n",
       "      <td>('A', 'C')</td>\n",
       "      <td>('A', 'G')</td>\n",
       "      <td>('A', 'G')</td>\n",
       "      <td>('A', 'A')</td>\n",
       "      <td>('C', 'A')</td>\n",
       "      <td>('T', 'C')</td>\n",
       "      <td>('A', 'A')</td>\n",
       "      <td>('C', 'C')</td>\n",
       "      <td>('C', 'C')</td>\n",
       "      <td>...</td>\n",
       "      <td>('G', 'G')</td>\n",
       "      <td>('G', 'G')</td>\n",
       "      <td>('G', 'G')</td>\n",
       "      <td>('T', 'C')</td>\n",
       "      <td>('C', 'C')</td>\n",
       "      <td>('C', 'C')</td>\n",
       "      <td>('T', 'T')</td>\n",
       "      <td>('C', 'T')</td>\n",
       "      <td>2</td>\n",
       "      <td>1</td>\n",
       "    </tr>\n",
       "    <tr>\n",
       "      <th>1</th>\n",
       "      <td>1</td>\n",
       "      <td>('A', 'C')</td>\n",
       "      <td>('G', 'G')</td>\n",
       "      <td>('A', 'G')</td>\n",
       "      <td>('A', 'A')</td>\n",
       "      <td>('C', 'A')</td>\n",
       "      <td>('T', 'C')</td>\n",
       "      <td>('A', 'A')</td>\n",
       "      <td>('C', 'C')</td>\n",
       "      <td>('C', 'C')</td>\n",
       "      <td>...</td>\n",
       "      <td>('G', 'G')</td>\n",
       "      <td>('A', 'G')</td>\n",
       "      <td>('G', 'G')</td>\n",
       "      <td>('C', 'C')</td>\n",
       "      <td>('C', 'C')</td>\n",
       "      <td>('C', 'C')</td>\n",
       "      <td>('C', 'T')</td>\n",
       "      <td>('T', 'T')</td>\n",
       "      <td>2</td>\n",
       "      <td>2</td>\n",
       "    </tr>\n",
       "    <tr>\n",
       "      <th>2</th>\n",
       "      <td>2</td>\n",
       "      <td>('A', 'C')</td>\n",
       "      <td>('G', 'G')</td>\n",
       "      <td>('G', 'G')</td>\n",
       "      <td>('G', 'A')</td>\n",
       "      <td>('C', 'A')</td>\n",
       "      <td>('T', 'C')</td>\n",
       "      <td>('A', 'A')</td>\n",
       "      <td>('C', 'C')</td>\n",
       "      <td>('C', 'C')</td>\n",
       "      <td>...</td>\n",
       "      <td>('G', 'G')</td>\n",
       "      <td>('A', 'G')</td>\n",
       "      <td>('G', 'G')</td>\n",
       "      <td>('T', 'T')</td>\n",
       "      <td>('T', 'C')</td>\n",
       "      <td>('C', 'C')</td>\n",
       "      <td>('T', 'T')</td>\n",
       "      <td>('C', 'T')</td>\n",
       "      <td>1</td>\n",
       "      <td>2</td>\n",
       "    </tr>\n",
       "    <tr>\n",
       "      <th>3</th>\n",
       "      <td>3</td>\n",
       "      <td>('C', 'C')</td>\n",
       "      <td>('G', 'G')</td>\n",
       "      <td>('A', 'G')</td>\n",
       "      <td>('G', 'G')</td>\n",
       "      <td>('A', 'A')</td>\n",
       "      <td>('C', 'C')</td>\n",
       "      <td>('G', 'A')</td>\n",
       "      <td>('C', 'C')</td>\n",
       "      <td>('C', 'C')</td>\n",
       "      <td>...</td>\n",
       "      <td>('A', 'G')</td>\n",
       "      <td>('A', 'G')</td>\n",
       "      <td>('G', 'G')</td>\n",
       "      <td>('T', 'T')</td>\n",
       "      <td>('C', 'C')</td>\n",
       "      <td>('C', 'C')</td>\n",
       "      <td>('T', 'T')</td>\n",
       "      <td>('C', 'T')</td>\n",
       "      <td>2</td>\n",
       "      <td>2</td>\n",
       "    </tr>\n",
       "    <tr>\n",
       "      <th>4</th>\n",
       "      <td>4</td>\n",
       "      <td>('C', 'C')</td>\n",
       "      <td>('G', 'G')</td>\n",
       "      <td>('G', 'G')</td>\n",
       "      <td>('G', 'G')</td>\n",
       "      <td>('A', 'A')</td>\n",
       "      <td>('C', 'C')</td>\n",
       "      <td>('A', 'A')</td>\n",
       "      <td>('C', 'C')</td>\n",
       "      <td>('C', 'C')</td>\n",
       "      <td>...</td>\n",
       "      <td>('G', 'G')</td>\n",
       "      <td>('A', 'G')</td>\n",
       "      <td>('G', 'G')</td>\n",
       "      <td>('C', 'C')</td>\n",
       "      <td>('C', 'C')</td>\n",
       "      <td>('C', 'C')</td>\n",
       "      <td>('C', 'T')</td>\n",
       "      <td>('T', 'T')</td>\n",
       "      <td>2</td>\n",
       "      <td>2</td>\n",
       "    </tr>\n",
       "  </tbody>\n",
       "</table>\n",
       "<p>5 rows × 12769 columns</p>\n",
       "</div>"
      ],
      "text/plain": [
       "   Unnamed: 0   rs6599770  rs12440100  rs12906138   rs7179358  kgp6444009  \\\n",
       "0           0  ('A', 'C')  ('A', 'G')  ('A', 'G')  ('A', 'A')  ('C', 'A')   \n",
       "1           1  ('A', 'C')  ('G', 'G')  ('A', 'G')  ('A', 'A')  ('C', 'A')   \n",
       "2           2  ('A', 'C')  ('G', 'G')  ('G', 'G')  ('G', 'A')  ('C', 'A')   \n",
       "3           3  ('C', 'C')  ('G', 'G')  ('A', 'G')  ('G', 'G')  ('A', 'A')   \n",
       "4           4  ('C', 'C')  ('G', 'G')  ('G', 'G')  ('G', 'G')  ('A', 'A')   \n",
       "\n",
       "    rs4932078  exm1140790  exm1140862  exm1140954  ...   exm1194803  \\\n",
       "0  ('T', 'C')  ('A', 'A')  ('C', 'C')  ('C', 'C')  ...   ('G', 'G')   \n",
       "1  ('T', 'C')  ('A', 'A')  ('C', 'C')  ('C', 'C')  ...   ('G', 'G')   \n",
       "2  ('T', 'C')  ('A', 'A')  ('C', 'C')  ('C', 'C')  ...   ('G', 'G')   \n",
       "3  ('C', 'C')  ('G', 'A')  ('C', 'C')  ('C', 'C')  ...   ('A', 'G')   \n",
       "4  ('C', 'C')  ('A', 'A')  ('C', 'C')  ('C', 'C')  ...   ('G', 'G')   \n",
       "\n",
       "    rs7182651   rs7180058   rs2203349  exm1194810  exm2274791  rs13329121  \\\n",
       "0  ('G', 'G')  ('G', 'G')  ('T', 'C')  ('C', 'C')  ('C', 'C')  ('T', 'T')   \n",
       "1  ('A', 'G')  ('G', 'G')  ('C', 'C')  ('C', 'C')  ('C', 'C')  ('C', 'T')   \n",
       "2  ('A', 'G')  ('G', 'G')  ('T', 'T')  ('T', 'C')  ('C', 'C')  ('T', 'T')   \n",
       "3  ('A', 'G')  ('G', 'G')  ('T', 'T')  ('C', 'C')  ('C', 'C')  ('T', 'T')   \n",
       "4  ('A', 'G')  ('G', 'G')  ('C', 'C')  ('C', 'C')  ('C', 'C')  ('C', 'T')   \n",
       "\n",
       "   rs11247329 sex color  \n",
       "0  ('C', 'T')   2     1  \n",
       "1  ('T', 'T')   2     2  \n",
       "2  ('C', 'T')   1     2  \n",
       "3  ('C', 'T')   2     2  \n",
       "4  ('T', 'T')   2     2  \n",
       "\n",
       "[5 rows x 12769 columns]"
      ]
     },
     "execution_count": 3,
     "metadata": {},
     "output_type": "execute_result"
    }
   ],
   "source": [
    "ped.head()"
   ]
  },
  {
   "cell_type": "code",
   "execution_count": 6,
   "metadata": {},
   "outputs": [],
   "source": [
    "# The best seected features\n",
    "features_names_top = ['exm-rs12913832', 'rs1129038', 'rs2238289']"
   ]
  },
  {
   "cell_type": "code",
   "execution_count": 7,
   "metadata": {},
   "outputs": [],
   "source": [
    "from category_encoders import *\n",
    "from sklearn.model_selection import train_test_split"
   ]
  },
  {
   "cell_type": "code",
   "execution_count": 8,
   "metadata": {},
   "outputs": [],
   "source": [
    "df_features = ped[features_names_top]\n",
    "df_targets = ped['color']\n",
    "\n",
    "# Change categorical to numeric variables\n",
    "enc = HashingEncoder(cols=features_names_top).fit(df_features, df_targets)\n",
    "numeric_features = enc.transform(df_features)\n",
    "\n",
    "# Split dataset into train and validation\n",
    "X_train, X_test, y_train, y_test = train_test_split(numeric_features, df_targets, test_size=0.33, random_state=42)\n"
   ]
  },
  {
   "cell_type": "code",
   "execution_count": 9,
   "metadata": {},
   "outputs": [
    {
     "data": {
      "text/plain": [
       "(3199, 8)"
      ]
     },
     "execution_count": 9,
     "metadata": {},
     "output_type": "execute_result"
    }
   ],
   "source": [
    "X_train.shape"
   ]
  },
  {
   "cell_type": "code",
   "execution_count": 10,
   "metadata": {},
   "outputs": [
    {
     "data": {
      "text/plain": [
       "1576"
      ]
     },
     "execution_count": 10,
     "metadata": {},
     "output_type": "execute_result"
    }
   ],
   "source": [
    "len(X_test)"
   ]
  },
  {
   "cell_type": "code",
   "execution_count": 11,
   "metadata": {},
   "outputs": [
    {
     "data": {
      "text/plain": [
       "(3199,)"
      ]
     },
     "execution_count": 11,
     "metadata": {},
     "output_type": "execute_result"
    }
   ],
   "source": [
    "y_train.shape"
   ]
  },
  {
   "cell_type": "code",
   "execution_count": 12,
   "metadata": {},
   "outputs": [
    {
     "data": {
      "text/plain": [
       "1576"
      ]
     },
     "execution_count": 12,
     "metadata": {},
     "output_type": "execute_result"
    }
   ],
   "source": [
    "len(y_test)"
   ]
  },
  {
   "cell_type": "code",
   "execution_count": 14,
   "metadata": {},
   "outputs": [
    {
     "data": {
      "text/plain": [
       "SVC(C=1.0, cache_size=200, class_weight=None, coef0=0.0,\n",
       "  decision_function_shape='ovr', degree=3, gamma='auto', kernel='rbf',\n",
       "  max_iter=-1, probability=False, random_state=None, shrinking=True,\n",
       "  tol=0.001, verbose=False)"
      ]
     },
     "execution_count": 14,
     "metadata": {},
     "output_type": "execute_result"
    }
   ],
   "source": [
    "# Build model and predict\n",
    "from sklearn.svm import SVC\n",
    "clf = SVC()\n",
    "clf.fit(X_train, y_train) \n",
    "SVC(C=1.0, cache_size=200, class_weight=None, coef0=0.0,\n",
    "    decision_function_shape='ovr', degree=3, gamma='auto', kernel='rbf',\n",
    "    max_iter=-1, probability=False, random_state=None, shrinking=True,\n",
    "    tol=0.001, verbose=False)"
   ]
  },
  {
   "cell_type": "code",
   "execution_count": 15,
   "metadata": {},
   "outputs": [],
   "source": [
    "# Evaluate the model\n",
    "score = clf.score(X_test, y_test)"
   ]
  },
  {
   "cell_type": "code",
   "execution_count": 16,
   "metadata": {},
   "outputs": [
    {
     "data": {
      "text/plain": [
       "0.8788071065989848"
      ]
     },
     "execution_count": 16,
     "metadata": {},
     "output_type": "execute_result"
    }
   ],
   "source": [
    "score"
   ]
  }
 ],
 "metadata": {
  "kernelspec": {
   "display_name": "Python 3",
   "language": "python",
   "name": "python3"
  },
  "language_info": {
   "codemirror_mode": {
    "name": "ipython",
    "version": 3
   },
   "file_extension": ".py",
   "mimetype": "text/x-python",
   "name": "python",
   "nbconvert_exporter": "python",
   "pygments_lexer": "ipython3",
   "version": "3.6.5"
  }
 },
 "nbformat": 4,
 "nbformat_minor": 1
}
